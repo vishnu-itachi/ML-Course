{
 "cells": [
  {
   "cell_type": "code",
   "execution_count": 1,
   "metadata": {},
   "outputs": [
    {
     "name": "stdout",
     "output_type": "stream",
     "text": [
      "  price maintenance  capacity airbag profitable\n",
      "0   low         low         2     no        yes\n",
      "1   low         med         4    yes         no\n",
      "2   low        high         4     no         no\n",
      "3   med         med         4     no         no\n",
      "4   med         med         4    yes        yes\n",
      "5   med        high         2    yes         no\n",
      "6  high         med         4    yes        yes\n",
      "7  high        high         2    yes         no\n",
      "8  high        high         5    yes        yes\n"
     ]
    }
   ],
   "source": [
    "# %load ass2p1.py\n",
    "import numpy as np\n",
    "import pandas as pd\n",
    "from sklearn.tree import DecisionTreeClassifier\n",
    "import pprint\n",
    "df = pd.read_excel('dataset for part 1.xlsx', sheet_name=0)\n",
    "test = pd.read_excel('dataset for part 1.xlsx', sheet_name=1)\n",
    "df.columns=[\"price\",\"maintenance\",\"capacity\",\"airbag\",\"profitable\"]\n",
    "test.columns=[\"price\",\"maintenance\",\"capacity\",\"airbag\",\"profitable\"]\n",
    "print(test)"
   ]
  },
  {
   "cell_type": "code",
   "execution_count": 2,
   "metadata": {},
   "outputs": [
    {
     "name": "stdout",
     "output_type": "stream",
     "text": [
      "0.9910760598382222\n"
     ]
    }
   ],
   "source": [
    "def entropy_of_node(df):\n",
    "    list=df[\"profitable\"].unique()\n",
    "    entropy = 0.0\n",
    "    for value in list:\n",
    "        num=df[\"profitable\"].value_counts()[value]\n",
    "        deno = len(df)\n",
    "        p=(num/deno)\n",
    "        entropy = entropy + (-p*(np.log2(p)))\n",
    "    return entropy\n",
    "\n",
    "print(entropy_of_node(df))\n",
    "    "
   ]
  },
  {
   "cell_type": "code",
   "execution_count": 3,
   "metadata": {},
   "outputs": [],
   "source": [
    "def entropy_attribute(df,attribute):\n",
    "    list = df[attribute].unique()\n",
    "    total_entropy=0.0\n",
    "    for value in list:\n",
    "        df1=df[df[attribute]==value].reset_index(drop=True)\n",
    "        en = entropy_of_node(df1)\n",
    "        total_entropy = total_entropy + (len(df1)*en)\n",
    "    return (total_entropy/len(df))"
   ]
  },
  {
   "cell_type": "code",
   "execution_count": 4,
   "metadata": {},
   "outputs": [
    {
     "name": "stdout",
     "output_type": "stream",
     "text": [
      "  price maintenance  capacity airbag profitable\n",
      "0   low         low         2     no        yes\n",
      "1   med         med         4    yes        yes\n",
      "2  high         med         4    yes        yes\n",
      "3  high        high         5    yes        yes\n",
      "4\n",
      "0.0\n",
      "yes\n",
      "['yes' 'no']\n"
     ]
    },
    {
     "data": {
      "text/plain": [
       "1.0"
      ]
     },
     "execution_count": 4,
     "metadata": {},
     "output_type": "execute_result"
    }
   ],
   "source": [
    "df1 = df[df[\"profitable\"]==\"yes\"].reset_index(drop=True)\n",
    "print(df1)\n",
    "print(df1.iloc[2,2])\n",
    "print(entropy_of_node(df1))\n",
    "print(df1.iloc[0,-1])\n",
    "l=df[\"profitable\"].unique()\n",
    "print(l)\n",
    "z = np.log2(df.loc[0][\"capacity\"])\n",
    "(z)"
   ]
  },
  {
   "cell_type": "code",
   "execution_count": 5,
   "metadata": {},
   "outputs": [
    {
     "name": "stdout",
     "output_type": "stream",
     "text": [
      "maintenance\n"
     ]
    }
   ],
   "source": [
    "def best_attribute(df):\n",
    "    list = df.keys()[:-1]\n",
    "    max = -1.0\n",
    "    for l in list:\n",
    "        gain  = entropy_of_node(df)-entropy_attribute(df,l)\n",
    "        if(gain>max):\n",
    "            max = gain\n",
    "            attr =l\n",
    "    return attr\n",
    "\n",
    "print(best_attribute(df))"
   ]
  },
  {
   "cell_type": "code",
   "execution_count": 6,
   "metadata": {},
   "outputs": [
    {
     "name": "stdout",
     "output_type": "stream",
     "text": [
      "{'maintenance': {'high': {'capacity': {2: 'no',\n",
      "                                       4: 'no',\n",
      "                                       5: 'yes'}},\n",
      "                 'low': 'yes',\n",
      "                 'med': {'price': {'high': 'yes',\n",
      "                                   'low': 'no',\n",
      "                                   'med': {'airbag': {'no': 'no',\n",
      "                                                      'yes': 'yes'}}}}}}\n"
     ]
    }
   ],
   "source": [
    "def generate_tree(df,tree):\n",
    "    attr = best_attribute(df)\n",
    "    list = df[attr].unique()\n",
    "    tree={}\n",
    "    tree[attr]={}\n",
    "    for value in list:\n",
    "        df1 = df[df[attr]==value]\n",
    "        if(entropy_of_node(df1)==0):\n",
    "            grp = df1.iloc[0,-1]\n",
    "            tree[attr][value]= grp\n",
    "        else:\n",
    "            tree[attr][value]=generate_tree(df1,tree)\n",
    "    return tree\n",
    "\n",
    "tree = {}\n",
    "tree = generate_tree(df,tree)\n",
    "pprint.pprint(tree,width=1)"
   ]
  },
  {
   "cell_type": "code",
   "execution_count": 12,
   "metadata": {},
   "outputs": [
    {
     "name": "stdout",
     "output_type": "stream",
     "text": [
      "maintenance = low:yes\n",
      "maintenance = med\n",
      "\t|price = low:no\n",
      "\t|price = med\n",
      "\t\t|airbag = no:no\n",
      "\t\t|airbag = yes:yes\n",
      "\t|price = high:yes\n",
      "maintenance = high\n",
      "\t|capacity = 4:no\n",
      "\t|capacity = 2:no\n",
      "\t|capacity = 5:yes\n"
     ]
    }
   ],
   "source": [
    "def print_tree(tree,tab=0):\n",
    "    for attr in tree.keys():\n",
    "        key = [i for i in tree[attr].keys()]\n",
    "        \n",
    "        for att in range(0,len(key)):\n",
    "            if(tab>=1):\n",
    "                for i in range(0,tab):\n",
    "                    print(\"\\t\" ,end=\"\")\n",
    "            if (tab>0):\n",
    "                print(\"|\",end=\"\")\n",
    "            print(attr,\"= \",end=\"\")\n",
    "            print(key[att],end=\"\")\n",
    "            if type(tree[attr][key[att]]) is not dict:\n",
    "                print(\":\",end=\"\")\n",
    "                print(tree[attr][key[att]])\n",
    "            else:\n",
    "                print(end=\"\\n\")\n",
    "                print_tree(tree[attr][key[att]],tab+1)\n",
    "\n",
    "print_tree(tree,0)"
   ]
  },
  {
   "cell_type": "code",
   "execution_count": 9,
   "metadata": {},
   "outputs": [
    {
     "name": "stdout",
     "output_type": "stream",
     "text": [
      "yes\n",
      "yes\n"
     ]
    }
   ],
   "source": [
    "def prediction(tree,test):\n",
    "    keys = [i for i in tree.keys()]\n",
    "     \n",
    "    for attr in keys:        \n",
    "        value = test[attr]\n",
    "        predict = 0\n",
    "        if type(tree[attr][value]) is not dict:\n",
    "            predict = tree[attr][value]\n",
    "            break;\n",
    "        else:\n",
    "            predict = prediction(tree[attr][value],test)\n",
    "    return predict\n",
    "\n",
    "print(prediction(tree,test.iloc[1,:]))\n",
    "print(prediction(tree,test.iloc[0,:]))"
   ]
  },
  {
   "cell_type": "code",
   "execution_count": 10,
   "metadata": {},
   "outputs": [
    {
     "data": {
      "text/plain": [
       "0.49382716049382713"
      ]
     },
     "execution_count": 10,
     "metadata": {},
     "output_type": "execute_result"
    }
   ],
   "source": [
    "def gini_of_node(df):\n",
    "    list = df[\"profitable\"].unique()\n",
    "    gini = 1.0\n",
    "    for value in list:\n",
    "        num = df[\"profitable\"].value_counts()[value]\n",
    "        deno = len(df)\n",
    "        gini = gini -np.power(num/deno,2)\n",
    "    return gini\n",
    "\n",
    "gini_of_node(df)"
   ]
  },
  {
   "cell_type": "code",
   "execution_count": 12,
   "metadata": {},
   "outputs": [
    {
     "name": "stdout",
     "output_type": "stream",
     "text": [
      "0.3888888888888889\n"
     ]
    }
   ],
   "source": [
    "def gini_attribute(df,attribute):\n",
    "    list = df[attribute].unique()\n",
    "    total_gini =0.0\n",
    "    for value in list:\n",
    "        df1 = df[df[attribute]==value]\n",
    "        gini = gini_of_node(df1)\n",
    "        total_gini = total_gini +len(df1)*gini\n",
    "    return (total_gini/len(df))\n",
    "\n",
    "print(gini_attribute(df,\"maintenance\"))"
   ]
  },
  {
   "cell_type": "code",
   "execution_count": 13,
   "metadata": {},
   "outputs": [
    {
     "data": {
      "text/plain": [
       "'maintenance'"
      ]
     },
     "execution_count": 13,
     "metadata": {},
     "output_type": "execute_result"
    }
   ],
   "source": [
    "def best_attribute_gini(df):\n",
    "    list = df.keys()[:-1]\n",
    "    min_gini = 2.0\n",
    "    for l in list:\n",
    "        gini = gini_attribute(df,l)\n",
    "        if (gini<min_gini):\n",
    "            attr = l\n",
    "            min_gini = gini\n",
    "    return attr\n",
    "\n",
    "best_attribute_gini(df)"
   ]
  },
  {
   "cell_type": "code",
   "execution_count": 14,
   "metadata": {},
   "outputs": [
    {
     "name": "stdout",
     "output_type": "stream",
     "text": [
      "{'maintenance': {'high': {'capacity': {2: 'no',\n",
      "                                       4: 'no',\n",
      "                                       5: 'yes'}},\n",
      "                 'low': 'yes',\n",
      "                 'med': {'price': {'high': 'yes',\n",
      "                                   'low': 'no',\n",
      "                                   'med': {'airbag': {'no': 'no',\n",
      "                                                      'yes': 'yes'}}}}}}\n"
     ]
    }
   ],
   "source": [
    "def generate_tree_gini(df,tree):\n",
    "    attr = best_attribute_gini(df)\n",
    "    list = df[attr].unique()\n",
    "    tree={}\n",
    "    tree[attr]={}\n",
    "    for value in list:\n",
    "        df1 = df[df[attr]==value]\n",
    "        if(gini_of_node(df1)==0):\n",
    "            grp = df1.iloc[0,-1]\n",
    "            tree[attr][value]= grp\n",
    "        else:\n",
    "            tree[attr][value]=generate_tree(df1,tree)\n",
    "    return tree\n",
    "\n",
    "tree1 = {}\n",
    "tree1 = generate_tree(df,tree1)\n",
    "pprint.pprint(tree1,width=1)"
   ]
  },
  {
   "cell_type": "code",
   "execution_count": 15,
   "metadata": {},
   "outputs": [
    {
     "name": "stdout",
     "output_type": "stream",
     "text": [
      "   price  maintenance  capacity  airbag  profitable\n",
      "0      0            0         2       1           0\n",
      "1      0            1         4       0           1\n",
      "2      0            2         4       1           1\n",
      "3      1            1         4       1           1\n",
      "4      1            1         4       0           0\n",
      "5      1            2         2       0           1\n",
      "6      2            1         4       0           0\n",
      "7      2            2         2       0           1\n",
      "8      2            2         5       0           0\n"
     ]
    },
    {
     "data": {
      "text/plain": [
       "1.0"
      ]
     },
     "execution_count": 15,
     "metadata": {},
     "output_type": "execute_result"
    }
   ],
   "source": [
    "df_sci = df.replace([\"low\",\"med\",\"high\",\"yes\",\"no\"],[0,1,2,0,1])\n",
    "df_test =test.replace([\"low\",\"med\",\"high\",\"yes\",\"no\"],[0,1,2,0,1])\n",
    "print(df_sci)\n",
    "dtree = DecisionTreeClassifier(criterion=\"entropy\",random_state=1)\n",
    "dtree.fit(df_sci.iloc[:,:-1],df_sci.iloc[:][\"profitable\"])\n",
    "dtree.score(df_test.iloc[:,:-1],df_test.iloc[:][\"profitable\"])"
   ]
  },
  {
   "cell_type": "code",
   "execution_count": null,
   "metadata": {},
   "outputs": [],
   "source": []
  }
 ],
 "metadata": {
  "kernelspec": {
   "display_name": "Python 3",
   "language": "python",
   "name": "python3"
  },
  "language_info": {
   "codemirror_mode": {
    "name": "ipython",
    "version": 3
   },
   "file_extension": ".py",
   "mimetype": "text/x-python",
   "name": "python",
   "nbconvert_exporter": "python",
   "pygments_lexer": "ipython3",
   "version": "3.7.1"
  }
 },
 "nbformat": 4,
 "nbformat_minor": 2
}
