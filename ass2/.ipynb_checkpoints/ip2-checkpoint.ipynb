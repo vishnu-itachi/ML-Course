{
 "cells": [
  {
   "cell_type": "code",
   "execution_count": 5,
   "metadata": {},
   "outputs": [],
   "source": [
    "import numpy as np\n",
    "import pandas as pd\n",
    "traindata_df = pd.read_csv('traindata.txt',sep=\"\\t\",header=None)\n",
    "trainlabel_df = pd.read_csv('trainlabel.txt',header=None)\n",
    "words_df= pd.read_csv('words.txt',header=None)\n",
    "words=words_df.iloc[:][0].values.tolist()\n",
    "\n",
    "l = list(traindata_df[0])\n",
    "print(l)\n",
    "docs = traindata_df[0].unique()\n",
    "doc = np.arange(1,1062)\n",
    "docs = doc.tolist()\n"
   ]
  },
  {
   "cell_type": "code",
   "execution_count": 31,
   "metadata": {},
   "outputs": [
    {
     "name": "stderr",
     "output_type": "stream",
     "text": [
      "IOPub data rate exceeded.\n",
      "The notebook server will temporarily stop sending output\n",
      "to the client in order to avoid crashing it.\n",
      "To change this limit, set the config variable\n",
      "`--NotebookApp.iopub_data_rate_limit`.\n",
      "\n",
      "Current values:\n",
      "NotebookApp.iopub_data_rate_limit=1000000.0 (bytes/sec)\n",
      "NotebookApp.rate_limit_window=3.0 (secs)\n",
      "\n"
     ]
    },
    {
     "data": {
      "text/plain": [
       "1061"
      ]
     },
     "execution_count": 31,
     "metadata": {},
     "output_type": "execute_result"
    }
   ],
   "source": [
    "data_list = [[0 for col in range(len(words))] for row in range(len(docs))]\n",
    "print(data_list)\n",
    "# for i in range(len(docs)):\n",
    "#     for j in range(len(traindata_df)):\n",
    "#         if(traindata_df.iloc[j][0]==i):\n",
    "#             doc[traindata_df.iloc[j][1]]=1\n",
    "#     data_list.append(doc)\n",
    "len(data_list) "
   ]
  },
  {
   "cell_type": "code",
   "execution_count": null,
   "metadata": {},
   "outputs": [],
   "source": []
  }
 ],
 "metadata": {
  "kernelspec": {
   "display_name": "Python 3",
   "language": "python",
   "name": "python3"
  },
  "language_info": {
   "codemirror_mode": {
    "name": "ipython",
    "version": 3
   },
   "file_extension": ".py",
   "mimetype": "text/x-python",
   "name": "python",
   "nbconvert_exporter": "python",
   "pygments_lexer": "ipython3",
   "version": "3.7.1"
  }
 },
 "nbformat": 4,
 "nbformat_minor": 2
}
